{
  "nbformat": 4,
  "nbformat_minor": 0,
  "metadata": {
    "accelerator": "GPU",
    "colab": {
      "name": "l10c03_nlp_constructing_text_generation_model.ipynb",
      "provenance": [],
      "collapsed_sections": [],
      "toc_visible": true
    },
    "kernelspec": {
      "name": "python3",
      "display_name": "Python 3.8.5 64-bit"
    },
    "interpreter": {
      "hash": "31f2aee4e71d21fbe5cf8b01ff0e069b9275f58929596ceb00d14d90e3e16cd6"
    }
  },
  "cells": [
    {
      "cell_type": "markdown",
      "metadata": {
        "id": "Ph5eir3Pf-3z"
      },
      "source": [
        "# Constructing a Text Generation Model\n"
      ]
    },
    {
      "cell_type": "markdown",
      "metadata": {
        "id": "7GbGfr_oLCat"
      },
      "source": [
        "Using most of the techniques you've already learned, it's now possible to generate new text by predicting the next word that follows a given seed word. To practice this method, we'll use the [Kaggle Song Lyrics Dataset](https://www.kaggle.com/mousehead/songlyrics)."
      ]
    },
    {
      "cell_type": "markdown",
      "metadata": {
        "id": "4aHK2CYygXom"
      },
      "source": [
        "## Import TensorFlow and related functions"
      ]
    },
    {
      "cell_type": "code",
      "metadata": {
        "id": "2LmLTREBf5ng"
      },
      "source": [
        "import tensorflow as tf\n",
        "\n",
        "from tensorflow.keras.preprocessing.text import Tokenizer\n",
        "from tensorflow.keras.preprocessing.sequence import pad_sequences\n",
        "\n",
        "# Other imports for processing data\n",
        "import string\n",
        "import numpy as np\n",
        "import pandas as pd"
      ],
      "execution_count": 1,
      "outputs": []
    },
    {
      "cell_type": "markdown",
      "metadata": {
        "id": "GmLTO_dpgge9"
      },
      "source": [
        "## Get the Dataset\n",
        "\n",
        "As noted above, we'll utilize the [Song Lyrics dataset](https://www.kaggle.com/mousehead/songlyrics) on Kaggle."
      ]
    },
    {
      "cell_type": "code",
      "metadata": {
        "id": "4Bf5FVHfganK"
      },
      "source": [
        "!wget --no-check-certificate \\\n",
        "    \"https://drive.google.com/uc?id=1LiJFZd41ofrWoBtW-pMYsfz1w8Ny0Bj8\" \\\n",
        "    -O /tmp/songdata.csv"
      ],
      "execution_count": 2,
      "outputs": [
        {
          "output_type": "stream",
          "name": "stdout",
          "text": [
            "--2021-06-29 19:45:21--  https://drive.google.com/uc?id=1LiJFZd41ofrWoBtW-pMYsfz1w8Ny0Bj8\n",
            "Resolving drive.google.com (drive.google.com)... 172.217.27.206, 2404:6800:4009:800::200e\n",
            "Connecting to drive.google.com (drive.google.com)|172.217.27.206|:443... connected.\n",
            "HTTP request sent, awaiting response... 302 Moved Temporarily\n",
            "Location: https://doc-04-ak-docs.googleusercontent.com/docs/securesc/ha0ro937gcuc7l7deffksulhg5h7mbp1/bluuv2n88gutef2it2egvhvn305im880/1624976100000/11118900490791463723/*/1LiJFZd41ofrWoBtW-pMYsfz1w8Ny0Bj8 [following]\n",
            "Warning: wildcards not supported in HTTP.\n",
            "--2021-06-29 19:45:24--  https://doc-04-ak-docs.googleusercontent.com/docs/securesc/ha0ro937gcuc7l7deffksulhg5h7mbp1/bluuv2n88gutef2it2egvhvn305im880/1624976100000/11118900490791463723/*/1LiJFZd41ofrWoBtW-pMYsfz1w8Ny0Bj8\n",
            "Resolving doc-04-ak-docs.googleusercontent.com (doc-04-ak-docs.googleusercontent.com)... 142.250.192.65, 2404:6800:4009:829::2001\n",
            "Connecting to doc-04-ak-docs.googleusercontent.com (doc-04-ak-docs.googleusercontent.com)|142.250.192.65|:443... connected.\n",
            "HTTP request sent, awaiting response... 200 OK\n",
            "Length: unspecified [text/csv]\n",
            "Saving to: ‘/tmp/songdata.csv’\n",
            "\n",
            "/tmp/songdata.csv       [   <=>              ]  69.08M  3.44MB/s    in 29s     \n",
            "\n",
            "2021-06-29 19:45:55 (2.36 MB/s) - ‘/tmp/songdata.csv’ saved [72436445]\n",
            "\n"
          ]
        }
      ]
    },
    {
      "cell_type": "markdown",
      "metadata": {
        "id": "gu1BTzMIS1oy"
      },
      "source": [
        "## **First 10 Songs**\n",
        "\n",
        "Let's first look at just 10 songs from the dataset, and see how things perform."
      ]
    },
    {
      "cell_type": "markdown",
      "metadata": {
        "id": "fmb9rGaAUDO-"
      },
      "source": [
        "### Preprocessing\n",
        "\n",
        "Let's perform some basic preprocessing to get rid of punctuation and make everything lowercase. We'll then split the lyrics up by line and tokenize the lyrics."
      ]
    },
    {
      "cell_type": "code",
      "metadata": {
        "id": "2AVAvyF_Vuh5"
      },
      "source": [
        "def tokenize_corpus(corpus, num_words=-1):\n",
        "  # Fit a Tokenizer on the corpus\n",
        "  if num_words > -1:\n",
        "    tokenizer = Tokenizer(num_words=num_words)\n",
        "  else:\n",
        "    tokenizer = Tokenizer()\n",
        "  tokenizer.fit_on_texts(corpus)\n",
        "  return tokenizer\n",
        "\n",
        "def create_lyrics_corpus(dataset, field):\n",
        "  # Remove all other punctuation\n",
        "  dataset[field] = dataset[field].str.replace('[{}]'.format(string.punctuation), '')\n",
        "  # Make it lowercase\n",
        "  dataset[field] = dataset[field].str.lower()\n",
        "  # Make it one long string to split by line\n",
        "  lyrics = dataset[field].str.cat()\n",
        "  corpus = lyrics.split('\\n')\n",
        "  # Remove any trailing whitespace\n",
        "  for l in range(len(corpus)):\n",
        "    corpus[l] = corpus[l].rstrip()\n",
        "  # Remove any empty lines\n",
        "  corpus = [l for l in corpus if l != '']\n",
        "\n",
        "  return corpus"
      ],
      "execution_count": 3,
      "outputs": []
    },
    {
      "cell_type": "code",
      "metadata": {
        "id": "apcEXp7WhVBs"
      },
      "source": [
        "# Read the dataset from csv - just first 10 songs for now\n",
        "dataset = pd.read_csv('/tmp/songdata.csv', dtype=str)[:10]\n",
        "# Create the corpus using the 'text' column containing lyrics\n",
        "corpus = create_lyrics_corpus(dataset, 'text')\n",
        "# Tokenize the corpus\n",
        "tokenizer = tokenize_corpus(corpus)\n",
        "\n",
        "total_words = len(tokenizer.word_index) + 1\n",
        "\n",
        "print(tokenizer.word_index)\n",
        "print(total_words)"
      ],
      "execution_count": 4,
      "outputs": [
        {
          "output_type": "stream",
          "name": "stdout",
          "text": [
            "{'you': 1, 'i': 2, 'and': 3, 'a': 4, 'me': 5, 'the': 6, 'is': 7, 'my': 8, 'to': 9, 'ma': 10, 'it': 11, 'of': 12, 'im': 13, 'your': 14, 'love': 15, 'so': 16, 'as': 17, 'that': 18, 'in': 19, 'andante': 20, 'boomaboomerang': 21, 'make': 22, 'on': 23, 'oh': 24, 'for': 25, 'but': 26, 'new': 27, 'bang': 28, 'its': 29, 'be': 30, 'like': 31, 'know': 32, 'now': 33, 'how': 34, 'could': 35, 'youre': 36, 'sing': 37, 'never': 38, 'no': 39, 'chiquitita': 40, 'can': 41, 'we': 42, 'song': 43, 'had': 44, 'good': 45, 'youll': 46, 'she': 47, 'just': 48, 'girl': 49, 'again': 50, 'will': 51, 'take': 52, 'please': 53, 'let': 54, 'am': 55, 'eyes': 56, 'was': 57, 'always': 58, 'cassandra': 59, 'blue': 60, 'time': 61, 'dont': 62, 'were': 63, 'return': 64, 'once': 65, 'then': 66, 'sorry': 67, 'cryin': 68, 'over': 69, 'feel': 70, 'ever': 71, 'believe': 72, 'what': 73, 'do': 74, 'go': 75, 'all': 76, 'out': 77, 'think': 78, 'every': 79, 'leave': 80, 'look': 81, 'at': 82, 'way': 83, 'one': 84, 'music': 85, 'down': 86, 'our': 87, 'give': 88, 'learn': 89, 'more': 90, 'us': 91, 'would': 92, 'there': 93, 'before': 94, 'when': 95, 'with': 96, 'feeling': 97, 'play': 98, 'cause': 99, 'away': 100, 'here': 101, 'have': 102, 'yes': 103, 'baby': 104, 'get': 105, 'didnt': 106, 'see': 107, 'did': 108, 'closed': 109, 'realized': 110, 'crazy': 111, 'world': 112, 'lord': 113, 'shes': 114, 'kind': 115, 'without': 116, 'if': 117, 'touch': 118, 'strong': 119, 'making': 120, 'such': 121, 'found': 122, 'true': 123, 'stay': 124, 'together': 125, 'thought': 126, 'come': 127, 'they': 128, 'sweet': 129, 'tender': 130, 'sender': 131, 'tune': 132, 'humdehumhum': 133, 'gonna': 134, 'last': 135, 'leaving': 136, 'sleep': 137, 'only': 138, 'saw': 139, 'tell': 140, 'hes': 141, 'her': 142, 'sound': 143, 'tread': 144, 'lightly': 145, 'ground': 146, 'ill': 147, 'show': 148, 'life': 149, 'too': 150, 'used': 151, 'darling': 152, 'meant': 153, 'break': 154, 'end': 155, 'yourself': 156, 'little': 157, 'dumbedumdum': 158, 'bedumbedumdum': 159, 'youve': 160, 'dumbbedumbdumb': 161, 'bedumbbedumbdumb': 162, 'by': 163, 'theyre': 164, 'alone': 165, 'misunderstood': 166, 'day': 167, 'dawning': 168, 'some': 169, 'wanted': 170, 'none': 171, 'listen': 172, 'words': 173, 'warning': 174, 'darkest': 175, 'nights': 176, 'nobody': 177, 'knew': 178, 'fight': 179, 'caught': 180, 'really': 181, 'power': 182, 'dreams': 183, 'weave': 184, 'until': 185, 'final': 186, 'hour': 187, 'morning': 188, 'ship': 189, 'gone': 190, 'grieving': 191, 'still': 192, 'pain': 193, 'cry': 194, 'sun': 195, 'try': 196, 'face': 197, 'something': 198, 'sees': 199, 'makes': 200, 'fine': 201, 'who': 202, 'mine': 203, 'leaves': 204, 'walk': 205, 'hand': 206, 'well': 207, 'about': 208, 'things': 209, 'slow': 210, 'theres': 211, 'talk': 212, 'why': 213, 'up': 214, 'lousy': 215, 'packing': 216, 'ive': 217, 'gotta': 218, 'near': 219, 'keeping': 220, 'intention': 221, 'growing': 222, 'taking': 223, 'dimension': 224, 'even': 225, 'better': 226, 'thank': 227, 'god': 228, 'not': 229, 'somebody': 230, 'happy': 231, 'question': 232, 'smile': 233, 'mean': 234, 'much': 235, 'kisses': 236, 'around': 237, 'anywhere': 238, 'advice': 239, 'care': 240, 'use': 241, 'selfish': 242, 'tool': 243, 'fool': 244, 'showing': 245, 'boomerang': 246, 'throwing': 247, 'warm': 248, 'kiss': 249, 'surrender': 250, 'giving': 251, 'been': 252, 'door': 253, 'burning': 254, 'bridges': 255, 'being': 256, 'moving': 257, 'though': 258, 'behind': 259, 'are': 260, 'must': 261, 'sure': 262, 'stood': 263, 'hope': 264, 'this': 265, 'deny': 266, 'sad': 267, 'quiet': 268, 'truth': 269, 'heartaches': 270, 'scars': 271, 'dancing': 272, 'sky': 273, 'shining': 274, 'above': 275, 'hear': 276, 'came': 277, 'couldnt': 278, 'everything': 279, 'back': 280, 'long': 281, 'waitin': 282, 'cold': 283, 'chills': 284, 'bone': 285, 'youd': 286, 'wonderful': 287, 'means': 288, 'special': 289, 'smiles': 290, 'lucky': 291, 'fellow': 292, 'park': 293, 'holds': 294, 'squeezes': 295, 'walking': 296, 'hours': 297, 'talking': 298, 'plan': 299, 'easy': 300, 'gently': 301, 'summer': 302, 'evening': 303, 'breeze': 304, 'grow': 305, 'fingers': 306, 'soft': 307, 'light': 308, 'body': 309, 'velvet': 310, 'night': 311, 'soul': 312, 'slowly': 313, 'shimmer': 314, 'thousand': 315, 'butterflies': 316, 'float': 317, 'put': 318, 'rotten': 319, 'boy': 320, 'tough': 321, 'stuff': 322, 'saying': 323, 'need': 324, 'anymore': 325, 'enough': 326, 'standing': 327, 'creep': 328, 'felt': 329, 'cheap': 330, 'notion': 331, 'deep': 332, 'dumb': 333, 'mistake': 334, 'entitled': 335, 'another': 336, 'beg': 337, 'forgive': 338, 'an': 339, 'feels': 340, 'hoot': 341, 'holler': 342, 'mad': 343, 'under': 344, 'heel': 345, 'holy': 346, 'christ': 347, 'deal': 348, 'sick': 349, 'tired': 350, 'tedious': 351, 'ways': 352, 'aint': 353, 'walkin': 354, 'cutting': 355, 'tie': 356, 'wanna': 357, 'into': 358, 'eye': 359, 'myself': 360, 'counting': 361, 'pride': 362, 'unright': 363, 'neighbours': 364, 'ride': 365, 'burying': 366, 'past': 367, 'peace': 368, 'free': 369, 'sucker': 370, 'street': 371, 'singing': 372, 'shouting': 373, 'staying': 374, 'alive': 375, 'city': 376, 'dead': 377, 'hiding': 378, 'their': 379, 'shame': 380, 'hollow': 381, 'laughter': 382, 'while': 383, 'crying': 384, 'bed': 385, 'pity': 386, 'believed': 387, 'lost': 388, 'from': 389, 'start': 390, 'suffer': 391, 'sell': 392, 'secrets': 393, 'bargain': 394, 'playing': 395, 'smart': 396, 'aching': 397, 'hearts': 398, 'sailing': 399, 'father': 400, 'sister': 401, 'reason': 402, 'linger': 403, 'deeply': 404, 'future': 405, 'casting': 406, 'shadow': 407, 'else': 408, 'fate': 409, 'bags': 410, 'thorough': 411, 'knowing': 412, 'late': 413, 'wait': 414, 'watched': 415, 'harbor': 416, 'sunrise': 417, 'sails': 418, 'almost': 419, 'slack': 420, 'cool': 421, 'rain': 422, 'deck': 423, 'tiny': 424, 'figure': 425, 'rigid': 426, 'restrained': 427, 'filled': 428, 'whats': 429, 'wrong': 430, 'enchained': 431, 'own': 432, 'sorrow': 433, 'tomorrow': 434, 'hate': 435, 'shoulder': 436, 'best': 437, 'friend': 438, 'rely': 439, 'broken': 440, 'feather': 441, 'patch': 442, 'walls': 443, 'tumbling': 444, 'loves': 445, 'blown': 446, 'candle': 447, 'seems': 448, 'hard': 449, 'handle': 450, 'id': 451, 'thinking': 452, 'went': 453, 'house': 454, 'hardly': 455, 'guy': 456, 'closing': 457, 'front': 458, 'emptiness': 459, 'he': 460, 'disapeared': 461, 'his': 462, 'car': 463, 'stunned': 464, 'dreamed': 465, 'lifes': 466, 'part': 467, 'move': 468, 'feet': 469, 'pavement': 470, 'acted': 471, 'told': 472, 'lies': 473, 'meet': 474, 'other': 475, 'guys': 476, 'stupid': 477, 'blind': 478, 'smiled': 479, 'took': 480, 'said': 481, 'may': 482, 'couple': 483, 'men': 484, 'them': 485, 'brother': 486, 'joe': 487, 'seeing': 488, 'lot': 489, 'him': 490, 'nice': 491, 'sitting': 492, 'sittin': 493, 'memories': 494}\n",
            "495\n",
            "<ipython-input-3-fbdddccf8583>:12: FutureWarning: The default value of regex will change from True to False in a future version.\n",
            "  dataset[field] = dataset[field].str.replace('[{}]'.format(string.punctuation), '')\n"
          ]
        }
      ]
    },
    {
      "cell_type": "markdown",
      "metadata": {
        "id": "v9x68iN_X6FK"
      },
      "source": [
        "### Create Sequences and Labels\n",
        "\n",
        "After preprocessing, we next need to create sequences and labels. Creating the sequences themselves is similar to before with `texts_to_sequences`, but also including the use of [N-Grams](https://towardsdatascience.com/introduction-to-language-models-n-gram-e323081503d9); creating the labels will now utilize those sequences as well as utilize one-hot encoding over all potential output words."
      ]
    },
    {
      "cell_type": "code",
      "metadata": {
        "id": "QmlTsUqfikVO"
      },
      "source": [
        "sequences = []\n",
        "for line in corpus:\n",
        "\ttoken_list = tokenizer.texts_to_sequences([line])[0]\n",
        "\tfor i in range(1, len(token_list)):\n",
        "\t\tn_gram_sequence = token_list[:i+1]\n",
        "\t\tsequences.append(n_gram_sequence)\n",
        "\n",
        "# Pad sequences for equal input length \n",
        "max_sequence_len = max([len(seq) for seq in sequences])\n",
        "sequences = np.array(pad_sequences(sequences, maxlen=max_sequence_len, padding='pre'))\n",
        "\n",
        "# Split sequences between the \"input\" sequence and \"output\" predicted word\n",
        "input_sequences, labels = sequences[:,:-1], sequences[:,-1]\n",
        "# One-hot encode the labels\n",
        "one_hot_labels = tf.keras.utils.to_categorical(labels, num_classes=total_words)"
      ],
      "execution_count": 5,
      "outputs": []
    },
    {
      "cell_type": "code",
      "metadata": {
        "id": "Zsmu3aEId49i"
      },
      "source": [
        "# Check out how some of our data is being stored\n",
        "# The Tokenizer has just a single index per word\n",
        "print(tokenizer.word_index['know'])\n",
        "print(tokenizer.word_index['feeling'])\n",
        "# Input sequences will have multiple indexes\n",
        "print(input_sequences[5])\n",
        "print(input_sequences[6])\n",
        "# And the one hot labels will be as long as the full spread of tokenized words\n",
        "print(one_hot_labels[5])\n",
        "print(one_hot_labels[6])"
      ],
      "execution_count": 6,
      "outputs": [
        {
          "output_type": "stream",
          "name": "stdout",
          "text": [
            "32\n97\n[  0   0   0   0   0   0   0   0   0   0   0   0   0  81  82 142 197  29\n   4]\n[  0   0   0   0   0   0   0   0   0   0   0   0  81  82 142 197  29   4\n 287]\n[0. 0. 0. 0. 0. 0. 0. 0. 0. 0. 0. 0. 0. 0. 0. 0. 0. 0. 0. 0. 0. 0. 0. 0.\n 0. 0. 0. 0. 0. 0. 0. 0. 0. 0. 0. 0. 0. 0. 0. 0. 0. 0. 0. 0. 0. 0. 0. 0.\n 0. 0. 0. 0. 0. 0. 0. 0. 0. 0. 0. 0. 0. 0. 0. 0. 0. 0. 0. 0. 0. 0. 0. 0.\n 0. 0. 0. 0. 0. 0. 0. 0. 0. 0. 0. 0. 0. 0. 0. 0. 0. 0. 0. 0. 0. 0. 0. 0.\n 0. 0. 0. 0. 0. 0. 0. 0. 0. 0. 0. 0. 0. 0. 0. 0. 0. 0. 0. 0. 0. 0. 0. 0.\n 0. 0. 0. 0. 0. 0. 0. 0. 0. 0. 0. 0. 0. 0. 0. 0. 0. 0. 0. 0. 0. 0. 0. 0.\n 0. 0. 0. 0. 0. 0. 0. 0. 0. 0. 0. 0. 0. 0. 0. 0. 0. 0. 0. 0. 0. 0. 0. 0.\n 0. 0. 0. 0. 0. 0. 0. 0. 0. 0. 0. 0. 0. 0. 0. 0. 0. 0. 0. 0. 0. 0. 0. 0.\n 0. 0. 0. 0. 0. 0. 0. 0. 0. 0. 0. 0. 0. 0. 0. 0. 0. 0. 0. 0. 0. 0. 0. 0.\n 0. 0. 0. 0. 0. 0. 0. 0. 0. 0. 0. 0. 0. 0. 0. 0. 0. 0. 0. 0. 0. 0. 0. 0.\n 0. 0. 0. 0. 0. 0. 0. 0. 0. 0. 0. 0. 0. 0. 0. 0. 0. 0. 0. 0. 0. 0. 0. 0.\n 0. 0. 0. 0. 0. 0. 0. 0. 0. 0. 0. 0. 0. 0. 0. 0. 0. 0. 0. 0. 0. 0. 0. 1.\n 0. 0. 0. 0. 0. 0. 0. 0. 0. 0. 0. 0. 0. 0. 0. 0. 0. 0. 0. 0. 0. 0. 0. 0.\n 0. 0. 0. 0. 0. 0. 0. 0. 0. 0. 0. 0. 0. 0. 0. 0. 0. 0. 0. 0. 0. 0. 0. 0.\n 0. 0. 0. 0. 0. 0. 0. 0. 0. 0. 0. 0. 0. 0. 0. 0. 0. 0. 0. 0. 0. 0. 0. 0.\n 0. 0. 0. 0. 0. 0. 0. 0. 0. 0. 0. 0. 0. 0. 0. 0. 0. 0. 0. 0. 0. 0. 0. 0.\n 0. 0. 0. 0. 0. 0. 0. 0. 0. 0. 0. 0. 0. 0. 0. 0. 0. 0. 0. 0. 0. 0. 0. 0.\n 0. 0. 0. 0. 0. 0. 0. 0. 0. 0. 0. 0. 0. 0. 0. 0. 0. 0. 0. 0. 0. 0. 0. 0.\n 0. 0. 0. 0. 0. 0. 0. 0. 0. 0. 0. 0. 0. 0. 0. 0. 0. 0. 0. 0. 0. 0. 0. 0.\n 0. 0. 0. 0. 0. 0. 0. 0. 0. 0. 0. 0. 0. 0. 0. 0. 0. 0. 0. 0. 0. 0. 0. 0.\n 0. 0. 0. 0. 0. 0. 0. 0. 0. 0. 0. 0. 0. 0. 0.]\n[0. 0. 0. 0. 0. 0. 0. 0. 0. 0. 0. 0. 0. 0. 0. 0. 0. 0. 0. 0. 0. 0. 0. 0.\n 0. 0. 0. 0. 0. 0. 0. 0. 0. 0. 0. 0. 0. 0. 0. 0. 0. 0. 0. 0. 0. 0. 0. 0.\n 0. 0. 0. 0. 0. 0. 0. 0. 0. 0. 0. 0. 0. 0. 0. 0. 0. 0. 0. 0. 0. 0. 0. 0.\n 0. 0. 0. 0. 0. 0. 0. 0. 0. 0. 0. 0. 0. 0. 0. 0. 0. 0. 0. 0. 0. 0. 0. 0.\n 0. 0. 0. 0. 0. 0. 0. 0. 0. 0. 0. 0. 0. 0. 0. 0. 0. 0. 0. 0. 0. 0. 0. 0.\n 0. 0. 0. 0. 0. 0. 0. 0. 0. 0. 0. 0. 0. 0. 0. 0. 0. 0. 0. 0. 0. 0. 0. 0.\n 0. 0. 0. 0. 0. 0. 0. 0. 0. 0. 0. 0. 0. 0. 0. 0. 0. 0. 0. 0. 0. 0. 0. 0.\n 0. 0. 0. 0. 0. 0. 0. 0. 0. 0. 0. 0. 0. 0. 0. 0. 0. 0. 0. 0. 0. 0. 0. 0.\n 0. 0. 0. 0. 0. 1. 0. 0. 0. 0. 0. 0. 0. 0. 0. 0. 0. 0. 0. 0. 0. 0. 0. 0.\n 0. 0. 0. 0. 0. 0. 0. 0. 0. 0. 0. 0. 0. 0. 0. 0. 0. 0. 0. 0. 0. 0. 0. 0.\n 0. 0. 0. 0. 0. 0. 0. 0. 0. 0. 0. 0. 0. 0. 0. 0. 0. 0. 0. 0. 0. 0. 0. 0.\n 0. 0. 0. 0. 0. 0. 0. 0. 0. 0. 0. 0. 0. 0. 0. 0. 0. 0. 0. 0. 0. 0. 0. 0.\n 0. 0. 0. 0. 0. 0. 0. 0. 0. 0. 0. 0. 0. 0. 0. 0. 0. 0. 0. 0. 0. 0. 0. 0.\n 0. 0. 0. 0. 0. 0. 0. 0. 0. 0. 0. 0. 0. 0. 0. 0. 0. 0. 0. 0. 0. 0. 0. 0.\n 0. 0. 0. 0. 0. 0. 0. 0. 0. 0. 0. 0. 0. 0. 0. 0. 0. 0. 0. 0. 0. 0. 0. 0.\n 0. 0. 0. 0. 0. 0. 0. 0. 0. 0. 0. 0. 0. 0. 0. 0. 0. 0. 0. 0. 0. 0. 0. 0.\n 0. 0. 0. 0. 0. 0. 0. 0. 0. 0. 0. 0. 0. 0. 0. 0. 0. 0. 0. 0. 0. 0. 0. 0.\n 0. 0. 0. 0. 0. 0. 0. 0. 0. 0. 0. 0. 0. 0. 0. 0. 0. 0. 0. 0. 0. 0. 0. 0.\n 0. 0. 0. 0. 0. 0. 0. 0. 0. 0. 0. 0. 0. 0. 0. 0. 0. 0. 0. 0. 0. 0. 0. 0.\n 0. 0. 0. 0. 0. 0. 0. 0. 0. 0. 0. 0. 0. 0. 0. 0. 0. 0. 0. 0. 0. 0. 0. 0.\n 0. 0. 0. 0. 0. 0. 0. 0. 0. 0. 0. 0. 0. 0. 0.]\n"
          ]
        }
      ]
    },
    {
      "cell_type": "markdown",
      "metadata": {
        "id": "-1TAJMlmfO8r"
      },
      "source": [
        "### Train a Text Generation Model\n",
        "\n",
        "Building an RNN to train our text generation model will be very similar to the sentiment models you've built previously. The only real change necessary is to make sure to use Categorical instead of Binary Cross Entropy as the loss function - we could use Binary before since the sentiment was only 0 or 1, but now there are hundreds of categories.\n",
        "\n",
        "From there, we should also consider using *more* epochs than before, as text generation can take a little longer to converge than sentiment analysis, *and* we aren't working with all that much data yet. I'll set it at 200 epochs here since we're only use part of the dataset, and training will tail off quite a bit over that many epochs."
      ]
    },
    {
      "cell_type": "code",
      "metadata": {
        "id": "G1YXuxIqfygN",
        "tags": [
          "outputPrepend"
        ]
      },
      "source": [
        "from tensorflow.keras.models import Sequential\n",
        "from tensorflow.keras.layers import Embedding, LSTM, Dense, Bidirectional\n",
        "\n",
        "model = Sequential()\n",
        "model.add(Embedding(total_words, 64, input_length=max_sequence_len-1))\n",
        "model.add(Bidirectional(LSTM(20)))\n",
        "model.add(Dense(total_words, activation='softmax'))\n",
        "model.compile(loss='categorical_crossentropy', optimizer='adam', metrics=['accuracy'])\n",
        "history = model.fit(input_sequences, one_hot_labels, epochs=200, verbose=1)"
      ],
      "execution_count": 7,
      "outputs": [
        {
          "output_type": "stream",
          "name": "stdout",
          "text": [
            " 5.3733 - accuracy: 0.0399\n",
            "Epoch 4/200\n",
            "62/62 [==============================] - 1s 11ms/step - loss: 5.3227 - accuracy: 0.0338\n",
            "Epoch 5/200\n",
            "62/62 [==============================] - 1s 11ms/step - loss: 5.2562 - accuracy: 0.0399\n",
            "Epoch 6/200\n",
            "62/62 [==============================] - 1s 12ms/step - loss: 5.1851 - accuracy: 0.0409\n",
            "Epoch 7/200\n",
            "62/62 [==============================] - 1s 12ms/step - loss: 5.1222 - accuracy: 0.0404\n",
            "Epoch 8/200\n",
            "62/62 [==============================] - 1s 11ms/step - loss: 5.0489 - accuracy: 0.0434\n",
            "Epoch 9/200\n",
            "62/62 [==============================] - 1s 11ms/step - loss: 4.9635 - accuracy: 0.0565\n",
            "Epoch 10/200\n",
            "62/62 [==============================] - 1s 11ms/step - loss: 4.8749 - accuracy: 0.0802\n",
            "Epoch 11/200\n",
            "62/62 [==============================] - 1s 11ms/step - loss: 4.7769 - accuracy: 0.0903\n",
            "Epoch 12/200\n",
            "62/62 [==============================] - 1s 12ms/step - loss: 4.6839 - accuracy: 0.1065\n",
            "Epoch 13/200\n",
            "62/62 [==============================] - 1s 12ms/step - loss: 4.5874 - accuracy: 0.1135\n",
            "Epoch 14/200\n",
            "62/62 [==============================] - 1s 12ms/step - loss: 4.4893 - accuracy: 0.1312\n",
            "Epoch 15/200\n",
            "62/62 [==============================] - 1s 12ms/step - loss: 4.3921 - accuracy: 0.1362\n",
            "Epoch 16/200\n",
            "62/62 [==============================] - 1s 11ms/step - loss: 4.2963 - accuracy: 0.1509\n",
            "Epoch 17/200\n",
            "62/62 [==============================] - 1s 12ms/step - loss: 4.2103 - accuracy: 0.1609\n",
            "Epoch 18/200\n",
            "62/62 [==============================] - 1s 12ms/step - loss: 4.1084 - accuracy: 0.1715\n",
            "Epoch 19/200\n",
            "62/62 [==============================] - 1s 11ms/step - loss: 4.0416 - accuracy: 0.1761\n",
            "Epoch 20/200\n",
            "62/62 [==============================] - 1s 11ms/step - loss: 3.9606 - accuracy: 0.1842\n",
            "Epoch 21/200\n",
            "62/62 [==============================] - 1s 11ms/step - loss: 3.8569 - accuracy: 0.2048\n",
            "Epoch 22/200\n",
            "62/62 [==============================] - 1s 14ms/step - loss: 3.7699 - accuracy: 0.2190\n",
            "Epoch 23/200\n",
            "62/62 [==============================] - 1s 12ms/step - loss: 3.6987 - accuracy: 0.2356\n",
            "Epoch 24/200\n",
            "62/62 [==============================] - 1s 14ms/step - loss: 3.6402 - accuracy: 0.2447\n",
            "Epoch 25/200\n",
            "62/62 [==============================] - 1s 12ms/step - loss: 3.5722 - accuracy: 0.2508\n",
            "Epoch 26/200\n",
            "62/62 [==============================] - 1s 13ms/step - loss: 3.5108 - accuracy: 0.2785\n",
            "Epoch 27/200\n",
            "62/62 [==============================] - 1s 14ms/step - loss: 3.4213 - accuracy: 0.2906\n",
            "Epoch 28/200\n",
            "62/62 [==============================] - 1s 15ms/step - loss: 3.3410 - accuracy: 0.3138\n",
            "Epoch 29/200\n",
            "62/62 [==============================] - 1s 13ms/step - loss: 3.2899 - accuracy: 0.3214\n",
            "Epoch 30/200\n",
            "62/62 [==============================] - 1s 12ms/step - loss: 3.2495 - accuracy: 0.3330\n",
            "Epoch 31/200\n",
            "62/62 [==============================] - 1s 13ms/step - loss: 3.1989 - accuracy: 0.3375\n",
            "Epoch 32/200\n",
            "62/62 [==============================] - 1s 12ms/step - loss: 3.1413 - accuracy: 0.3547\n",
            "Epoch 33/200\n",
            "62/62 [==============================] - 1s 11ms/step - loss: 3.0757 - accuracy: 0.3688\n",
            "Epoch 34/200\n",
            "62/62 [==============================] - 1s 13ms/step - loss: 2.9963 - accuracy: 0.3829\n",
            "Epoch 35/200\n",
            "62/62 [==============================] - 1s 13ms/step - loss: 2.9472 - accuracy: 0.4051\n",
            "Epoch 36/200\n",
            "62/62 [==============================] - 1s 12ms/step - loss: 2.8957 - accuracy: 0.4021\n",
            "Epoch 37/200\n",
            "62/62 [==============================] - 1s 12ms/step - loss: 2.8400 - accuracy: 0.4122\n",
            "Epoch 38/200\n",
            "62/62 [==============================] - 1s 14ms/step - loss: 2.7905 - accuracy: 0.4208\n",
            "Epoch 39/200\n",
            "62/62 [==============================] - 1s 12ms/step - loss: 2.7409 - accuracy: 0.4299\n",
            "Epoch 40/200\n",
            "62/62 [==============================] - 1s 12ms/step - loss: 2.6774 - accuracy: 0.4490\n",
            "Epoch 41/200\n",
            "62/62 [==============================] - 1s 11ms/step - loss: 2.6247 - accuracy: 0.4632\n",
            "Epoch 42/200\n",
            "62/62 [==============================] - 1s 11ms/step - loss: 2.5775 - accuracy: 0.4743\n",
            "Epoch 43/200\n",
            "62/62 [==============================] - 1s 11ms/step - loss: 2.5308 - accuracy: 0.4773\n",
            "Epoch 44/200\n",
            "62/62 [==============================] - 1s 12ms/step - loss: 2.4900 - accuracy: 0.4854\n",
            "Epoch 45/200\n",
            "62/62 [==============================] - 1s 11ms/step - loss: 2.4522 - accuracy: 0.4899\n",
            "Epoch 46/200\n",
            "62/62 [==============================] - 1s 12ms/step - loss: 2.3985 - accuracy: 0.5005\n",
            "Epoch 47/200\n",
            "62/62 [==============================] - 1s 14ms/step - loss: 2.3651 - accuracy: 0.5101\n",
            "Epoch 48/200\n",
            "62/62 [==============================] - 1s 13ms/step - loss: 2.3187 - accuracy: 0.5121\n",
            "Epoch 49/200\n",
            "62/62 [==============================] - 1s 13ms/step - loss: 2.2898 - accuracy: 0.5207\n",
            "Epoch 50/200\n",
            "62/62 [==============================] - 1s 13ms/step - loss: 2.2485 - accuracy: 0.5348\n",
            "Epoch 51/200\n",
            "62/62 [==============================] - 1s 14ms/step - loss: 2.2093 - accuracy: 0.5328\n",
            "Epoch 52/200\n",
            "62/62 [==============================] - 1s 14ms/step - loss: 2.1702 - accuracy: 0.5439\n",
            "Epoch 53/200\n",
            "62/62 [==============================] - 1s 13ms/step - loss: 2.1525 - accuracy: 0.5535\n",
            "Epoch 54/200\n",
            "62/62 [==============================] - 1s 14ms/step - loss: 2.1364 - accuracy: 0.5570\n",
            "Epoch 55/200\n",
            "62/62 [==============================] - 1s 14ms/step - loss: 2.1152 - accuracy: 0.5560\n",
            "Epoch 56/200\n",
            "62/62 [==============================] - 1s 12ms/step - loss: 2.0449 - accuracy: 0.5777\n",
            "Epoch 57/200\n",
            "62/62 [==============================] - 1s 12ms/step - loss: 1.9986 - accuracy: 0.5853\n",
            "Epoch 58/200\n",
            "62/62 [==============================] - 1s 12ms/step - loss: 1.9883 - accuracy: 0.5843\n",
            "Epoch 59/200\n",
            "62/62 [==============================] - 1s 12ms/step - loss: 1.9490 - accuracy: 0.6019\n",
            "Epoch 60/200\n",
            "62/62 [==============================] - 1s 12ms/step - loss: 1.9139 - accuracy: 0.5999\n",
            "Epoch 61/200\n",
            "62/62 [==============================] - 1s 12ms/step - loss: 1.8859 - accuracy: 0.6201\n",
            "Epoch 62/200\n",
            "62/62 [==============================] - 1s 12ms/step - loss: 1.8431 - accuracy: 0.6201\n",
            "Epoch 63/200\n",
            "62/62 [==============================] - 1s 12ms/step - loss: 1.8036 - accuracy: 0.6342\n",
            "Epoch 64/200\n",
            "62/62 [==============================] - 1s 12ms/step - loss: 1.7701 - accuracy: 0.6413\n",
            "Epoch 65/200\n",
            "62/62 [==============================] - 1s 13ms/step - loss: 1.7374 - accuracy: 0.6473\n",
            "Epoch 66/200\n",
            "62/62 [==============================] - 1s 12ms/step - loss: 1.7177 - accuracy: 0.6463\n",
            "Epoch 67/200\n",
            "62/62 [==============================] - 1s 13ms/step - loss: 1.6882 - accuracy: 0.6544\n",
            "Epoch 68/200\n",
            "62/62 [==============================] - 1s 12ms/step - loss: 1.6532 - accuracy: 0.6640\n",
            "Epoch 69/200\n",
            "62/62 [==============================] - 1s 12ms/step - loss: 1.6206 - accuracy: 0.6680\n",
            "Epoch 70/200\n",
            "62/62 [==============================] - 1s 12ms/step - loss: 1.5927 - accuracy: 0.6741\n",
            "Epoch 71/200\n",
            "62/62 [==============================] - 1s 12ms/step - loss: 1.5766 - accuracy: 0.6776\n",
            "Epoch 72/200\n",
            "62/62 [==============================] - 1s 12ms/step - loss: 1.5611 - accuracy: 0.6887\n",
            "Epoch 73/200\n",
            "62/62 [==============================] - 1s 12ms/step - loss: 1.5281 - accuracy: 0.6887\n",
            "Epoch 74/200\n",
            "62/62 [==============================] - 1s 13ms/step - loss: 1.5009 - accuracy: 0.6927\n",
            "Epoch 75/200\n",
            "62/62 [==============================] - 1s 15ms/step - loss: 1.4727 - accuracy: 0.7013\n",
            "Epoch 76/200\n",
            "62/62 [==============================] - 1s 12ms/step - loss: 1.4592 - accuracy: 0.7038\n",
            "Epoch 77/200\n",
            "62/62 [==============================] - 1s 12ms/step - loss: 1.4430 - accuracy: 0.7033\n",
            "Epoch 78/200\n",
            "62/62 [==============================] - 1s 14ms/step - loss: 1.4302 - accuracy: 0.7089\n",
            "Epoch 79/200\n",
            "62/62 [==============================] - 1s 13ms/step - loss: 1.3992 - accuracy: 0.7159\n",
            "Epoch 80/200\n",
            "62/62 [==============================] - 1s 12ms/step - loss: 1.3866 - accuracy: 0.7200\n",
            "Epoch 81/200\n",
            "62/62 [==============================] - 1s 12ms/step - loss: 1.3878 - accuracy: 0.7089\n",
            "Epoch 82/200\n",
            "62/62 [==============================] - 1s 12ms/step - loss: 1.4130 - accuracy: 0.6988\n",
            "Epoch 83/200\n",
            "62/62 [==============================] - 1s 12ms/step - loss: 1.3521 - accuracy: 0.7205\n",
            "Epoch 84/200\n",
            "62/62 [==============================] - 1s 12ms/step - loss: 1.3423 - accuracy: 0.7225\n",
            "Epoch 85/200\n",
            "62/62 [==============================] - 1s 12ms/step - loss: 1.3187 - accuracy: 0.7265\n",
            "Epoch 86/200\n",
            "62/62 [==============================] - 1s 13ms/step - loss: 1.2843 - accuracy: 0.7301\n",
            "Epoch 87/200\n",
            "62/62 [==============================] - 1s 12ms/step - loss: 1.2623 - accuracy: 0.7412\n",
            "Epoch 88/200\n",
            "62/62 [==============================] - 1s 12ms/step - loss: 1.2914 - accuracy: 0.7281\n",
            "Epoch 89/200\n",
            "62/62 [==============================] - 1s 12ms/step - loss: 1.4321 - accuracy: 0.6852\n",
            "Epoch 90/200\n",
            "62/62 [==============================] - 1s 12ms/step - loss: 1.3546 - accuracy: 0.7069\n",
            "Epoch 91/200\n",
            "62/62 [==============================] - 1s 11ms/step - loss: 1.2572 - accuracy: 0.7326\n",
            "Epoch 92/200\n",
            "62/62 [==============================] - 1s 12ms/step - loss: 1.2272 - accuracy: 0.7321\n",
            "Epoch 93/200\n",
            "62/62 [==============================] - 1s 12ms/step - loss: 1.1936 - accuracy: 0.7472\n",
            "Epoch 94/200\n",
            "62/62 [==============================] - 1s 12ms/step - loss: 1.1631 - accuracy: 0.7508\n",
            "Epoch 95/200\n",
            "62/62 [==============================] - 1s 12ms/step - loss: 1.1346 - accuracy: 0.7654\n",
            "Epoch 96/200\n",
            "62/62 [==============================] - 1s 12ms/step - loss: 1.1144 - accuracy: 0.7629\n",
            "Epoch 97/200\n",
            "62/62 [==============================] - 1s 12ms/step - loss: 1.0950 - accuracy: 0.7725\n",
            "Epoch 98/200\n",
            "62/62 [==============================] - 1s 12ms/step - loss: 1.0800 - accuracy: 0.7760\n",
            "Epoch 99/200\n",
            "62/62 [==============================] - 1s 12ms/step - loss: 1.0610 - accuracy: 0.7805\n",
            "Epoch 100/200\n",
            "62/62 [==============================] - 1s 12ms/step - loss: 1.0498 - accuracy: 0.7800\n",
            "Epoch 101/200\n",
            "62/62 [==============================] - 1s 12ms/step - loss: 1.0306 - accuracy: 0.7820\n",
            "Epoch 102/200\n",
            "62/62 [==============================] - 1s 12ms/step - loss: 1.0189 - accuracy: 0.7810\n",
            "Epoch 103/200\n",
            "62/62 [==============================] - 1s 12ms/step - loss: 1.0035 - accuracy: 0.7866\n",
            "Epoch 104/200\n",
            "62/62 [==============================] - 1s 12ms/step - loss: 1.0052 - accuracy: 0.7881\n",
            "Epoch 105/200\n",
            "62/62 [==============================] - 1s 12ms/step - loss: 1.0353 - accuracy: 0.7770\n",
            "Epoch 106/200\n",
            "62/62 [==============================] - 1s 12ms/step - loss: 1.0049 - accuracy: 0.7790\n",
            "Epoch 107/200\n",
            "62/62 [==============================] - 1s 12ms/step - loss: 0.9883 - accuracy: 0.7871\n",
            "Epoch 108/200\n",
            "62/62 [==============================] - 1s 12ms/step - loss: 0.9818 - accuracy: 0.7901\n",
            "Epoch 109/200\n",
            "62/62 [==============================] - 1s 12ms/step - loss: 0.9592 - accuracy: 0.7921\n",
            "Epoch 110/200\n",
            "62/62 [==============================] - 1s 12ms/step - loss: 1.0035 - accuracy: 0.7820\n",
            "Epoch 111/200\n",
            "62/62 [==============================] - 1s 13ms/step - loss: 0.9733 - accuracy: 0.7841\n",
            "Epoch 112/200\n",
            "62/62 [==============================] - 1s 12ms/step - loss: 0.9361 - accuracy: 0.7931\n",
            "Epoch 113/200\n",
            "62/62 [==============================] - 1s 12ms/step - loss: 0.9103 - accuracy: 0.7967\n",
            "Epoch 114/200\n",
            "62/62 [==============================] - 1s 12ms/step - loss: 0.8895 - accuracy: 0.8047\n",
            "Epoch 115/200\n",
            "62/62 [==============================] - 1s 13ms/step - loss: 0.8751 - accuracy: 0.8103\n",
            "Epoch 116/200\n",
            "62/62 [==============================] - 1s 12ms/step - loss: 0.8609 - accuracy: 0.8088\n",
            "Epoch 117/200\n",
            "62/62 [==============================] - 1s 12ms/step - loss: 0.8464 - accuracy: 0.8098\n",
            "Epoch 118/200\n",
            "62/62 [==============================] - 1s 12ms/step - loss: 0.8371 - accuracy: 0.8133\n",
            "Epoch 119/200\n",
            "62/62 [==============================] - 1s 13ms/step - loss: 0.8386 - accuracy: 0.8088\n",
            "Epoch 120/200\n",
            "62/62 [==============================] - 1s 14ms/step - loss: 0.8374 - accuracy: 0.8078\n",
            "Epoch 121/200\n",
            "62/62 [==============================] - 1s 13ms/step - loss: 0.8271 - accuracy: 0.8078\n",
            "Epoch 122/200\n",
            "62/62 [==============================] - 1s 14ms/step - loss: 0.8083 - accuracy: 0.8138\n",
            "Epoch 123/200\n",
            "62/62 [==============================] - 1s 13ms/step - loss: 0.8004 - accuracy: 0.8179\n",
            "Epoch 124/200\n",
            "62/62 [==============================] - 1s 13ms/step - loss: 0.8210 - accuracy: 0.8113\n",
            "Epoch 125/200\n",
            "62/62 [==============================] - 1s 12ms/step - loss: 0.8151 - accuracy: 0.8179\n",
            "Epoch 126/200\n",
            "62/62 [==============================] - 1s 13ms/step - loss: 0.8528 - accuracy: 0.8037\n",
            "Epoch 127/200\n",
            "62/62 [==============================] - 1s 14ms/step - loss: 0.8889 - accuracy: 0.7972\n",
            "Epoch 128/200\n",
            "62/62 [==============================] - 1s 12ms/step - loss: 0.8133 - accuracy: 0.8184\n",
            "Epoch 129/200\n",
            "62/62 [==============================] - 1s 13ms/step - loss: 0.7821 - accuracy: 0.8295\n",
            "Epoch 130/200\n",
            "62/62 [==============================] - 1s 12ms/step - loss: 0.7724 - accuracy: 0.8320\n",
            "Epoch 131/200\n",
            "62/62 [==============================] - 1s 12ms/step - loss: 0.7550 - accuracy: 0.8340\n",
            "Epoch 132/200\n",
            "62/62 [==============================] - 1s 12ms/step - loss: 0.7395 - accuracy: 0.8365\n",
            "Epoch 133/200\n",
            "62/62 [==============================] - 1s 13ms/step - loss: 0.7254 - accuracy: 0.8375\n",
            "Epoch 134/200\n",
            "62/62 [==============================] - 1s 12ms/step - loss: 0.7139 - accuracy: 0.8370\n",
            "Epoch 135/200\n",
            "62/62 [==============================] - 1s 14ms/step - loss: 0.7065 - accuracy: 0.8375\n",
            "Epoch 136/200\n",
            "62/62 [==============================] - 1s 14ms/step - loss: 0.6943 - accuracy: 0.8426\n",
            "Epoch 137/200\n",
            "62/62 [==============================] - 1s 12ms/step - loss: 0.6837 - accuracy: 0.8436\n",
            "Epoch 138/200\n",
            "62/62 [==============================] - 1s 12ms/step - loss: 0.6995 - accuracy: 0.8335\n",
            "Epoch 139/200\n",
            "62/62 [==============================] - 3s 51ms/step - loss: 0.6838 - accuracy: 0.8401\n",
            "Epoch 140/200\n",
            "62/62 [==============================] - 1s 17ms/step - loss: 0.6688 - accuracy: 0.8416\n",
            "Epoch 141/200\n",
            "62/62 [==============================] - 1s 14ms/step - loss: 0.6611 - accuracy: 0.8466\n",
            "Epoch 142/200\n",
            "62/62 [==============================] - 1s 12ms/step - loss: 0.6558 - accuracy: 0.8421\n",
            "Epoch 143/200\n",
            "62/62 [==============================] - 1s 12ms/step - loss: 0.6414 - accuracy: 0.8491\n",
            "Epoch 144/200\n",
            "62/62 [==============================] - 1s 13ms/step - loss: 0.6807 - accuracy: 0.8406\n",
            "Epoch 145/200\n",
            "62/62 [==============================] - 1s 14ms/step - loss: 0.6953 - accuracy: 0.8380\n",
            "Epoch 146/200\n",
            "62/62 [==============================] - 1s 14ms/step - loss: 0.6873 - accuracy: 0.8401\n",
            "Epoch 147/200\n",
            "62/62 [==============================] - 1s 14ms/step - loss: 0.6372 - accuracy: 0.8507\n",
            "Epoch 148/200\n",
            "62/62 [==============================] - 1s 14ms/step - loss: 0.6218 - accuracy: 0.8537\n",
            "Epoch 149/200\n",
            "62/62 [==============================] - 1s 12ms/step - loss: 0.6134 - accuracy: 0.8587\n",
            "Epoch 150/200\n",
            "62/62 [==============================] - 1s 13ms/step - loss: 0.6076 - accuracy: 0.8522\n",
            "Epoch 151/200\n",
            "62/62 [==============================] - 1s 13ms/step - loss: 0.5953 - accuracy: 0.8557\n",
            "Epoch 152/200\n",
            "62/62 [==============================] - 1s 14ms/step - loss: 0.5886 - accuracy: 0.8613\n",
            "Epoch 153/200\n",
            "62/62 [==============================] - 1s 13ms/step - loss: 0.6238 - accuracy: 0.8491\n",
            "Epoch 154/200\n",
            "62/62 [==============================] - 1s 12ms/step - loss: 0.6040 - accuracy: 0.8507\n",
            "Epoch 155/200\n",
            "62/62 [==============================] - 1s 13ms/step - loss: 0.5822 - accuracy: 0.8633\n",
            "Epoch 156/200\n",
            "62/62 [==============================] - 1s 13ms/step - loss: 0.5730 - accuracy: 0.8658\n",
            "Epoch 157/200\n",
            "62/62 [==============================] - 1s 13ms/step - loss: 0.5650 - accuracy: 0.8607\n",
            "Epoch 158/200\n",
            "62/62 [==============================] - 1s 15ms/step - loss: 0.5602 - accuracy: 0.8638\n",
            "Epoch 159/200\n",
            "62/62 [==============================] - 1s 12ms/step - loss: 0.5534 - accuracy: 0.8648\n",
            "Epoch 160/200\n",
            "62/62 [==============================] - 1s 12ms/step - loss: 0.5529 - accuracy: 0.8648\n",
            "Epoch 161/200\n",
            "62/62 [==============================] - 1s 14ms/step - loss: 0.5451 - accuracy: 0.8658\n",
            "Epoch 162/200\n",
            "62/62 [==============================] - 3s 51ms/step - loss: 0.5352 - accuracy: 0.8658\n",
            "Epoch 163/200\n",
            "62/62 [==============================] - 1s 15ms/step - loss: 0.5278 - accuracy: 0.8698\n",
            "Epoch 164/200\n",
            "62/62 [==============================] - 1s 15ms/step - loss: 0.5185 - accuracy: 0.8703\n",
            "Epoch 165/200\n",
            "62/62 [==============================] - 1s 13ms/step - loss: 0.5139 - accuracy: 0.8724\n",
            "Epoch 166/200\n",
            "62/62 [==============================] - 1s 16ms/step - loss: 0.5068 - accuracy: 0.8764\n",
            "Epoch 167/200\n",
            "62/62 [==============================] - 1s 10ms/step - loss: 0.5022 - accuracy: 0.8754\n",
            "Epoch 168/200\n",
            "62/62 [==============================] - 1s 15ms/step - loss: 0.4963 - accuracy: 0.8799\n",
            "Epoch 169/200\n",
            "62/62 [==============================] - 1s 14ms/step - loss: 0.4929 - accuracy: 0.8799\n",
            "Epoch 170/200\n",
            "62/62 [==============================] - 1s 19ms/step - loss: 0.4864 - accuracy: 0.8794\n",
            "Epoch 171/200\n",
            "62/62 [==============================] - 1s 9ms/step - loss: 0.4847 - accuracy: 0.8769\n",
            "Epoch 172/200\n",
            "62/62 [==============================] - 1s 9ms/step - loss: 0.4828 - accuracy: 0.8769\n",
            "Epoch 173/200\n",
            "62/62 [==============================] - 1s 9ms/step - loss: 0.4946 - accuracy: 0.8718\n",
            "Epoch 174/200\n",
            "62/62 [==============================] - 1s 10ms/step - loss: 0.4848 - accuracy: 0.8734\n",
            "Epoch 175/200\n",
            "62/62 [==============================] - 1s 9ms/step - loss: 0.4741 - accuracy: 0.8819\n",
            "Epoch 176/200\n",
            "62/62 [==============================] - 1s 9ms/step - loss: 0.4710 - accuracy: 0.8794\n",
            "Epoch 177/200\n",
            "62/62 [==============================] - 1s 9ms/step - loss: 0.4623 - accuracy: 0.8835\n",
            "Epoch 178/200\n",
            "62/62 [==============================] - 1s 9ms/step - loss: 0.4598 - accuracy: 0.8870\n",
            "Epoch 179/200\n",
            "62/62 [==============================] - 1s 10ms/step - loss: 0.4539 - accuracy: 0.8855\n",
            "Epoch 180/200\n",
            "62/62 [==============================] - 1s 9ms/step - loss: 0.4525 - accuracy: 0.8824\n",
            "Epoch 181/200\n",
            "62/62 [==============================] - 1s 9ms/step - loss: 0.4477 - accuracy: 0.8890\n",
            "Epoch 182/200\n",
            "62/62 [==============================] - 1s 9ms/step - loss: 0.4412 - accuracy: 0.8835\n",
            "Epoch 183/200\n",
            "62/62 [==============================] - 1s 9ms/step - loss: 0.4386 - accuracy: 0.8915\n",
            "Epoch 184/200\n",
            "62/62 [==============================] - 1s 10ms/step - loss: 0.4351 - accuracy: 0.8885\n",
            "Epoch 185/200\n",
            "62/62 [==============================] - 1s 9ms/step - loss: 0.4390 - accuracy: 0.8900\n",
            "Epoch 186/200\n",
            "62/62 [==============================] - 1s 9ms/step - loss: 0.4592 - accuracy: 0.8824\n",
            "Epoch 187/200\n",
            "62/62 [==============================] - 1s 9ms/step - loss: 0.4486 - accuracy: 0.8814\n",
            "Epoch 188/200\n",
            "62/62 [==============================] - 1s 9ms/step - loss: 0.4417 - accuracy: 0.8829\n",
            "Epoch 189/200\n",
            "62/62 [==============================] - 1s 9ms/step - loss: 0.4294 - accuracy: 0.8900\n",
            "Epoch 190/200\n",
            "62/62 [==============================] - 1s 9ms/step - loss: 0.4386 - accuracy: 0.8910\n",
            "Epoch 191/200\n",
            "62/62 [==============================] - 1s 9ms/step - loss: 0.4364 - accuracy: 0.8880\n",
            "Epoch 192/200\n",
            "62/62 [==============================] - 1s 9ms/step - loss: 0.4417 - accuracy: 0.8829\n",
            "Epoch 193/200\n",
            "62/62 [==============================] - 1s 10ms/step - loss: 0.4311 - accuracy: 0.8915\n",
            "Epoch 194/200\n",
            "62/62 [==============================] - 1s 10ms/step - loss: 0.4135 - accuracy: 0.8905\n",
            "Epoch 195/200\n",
            "62/62 [==============================] - 1s 11ms/step - loss: 0.4292 - accuracy: 0.8915\n",
            "Epoch 196/200\n",
            "62/62 [==============================] - 1s 11ms/step - loss: 0.4179 - accuracy: 0.8865\n",
            "Epoch 197/200\n",
            "62/62 [==============================] - 1s 10ms/step - loss: 0.4706 - accuracy: 0.8804\n",
            "Epoch 198/200\n",
            "62/62 [==============================] - 1s 10ms/step - loss: 0.4526 - accuracy: 0.8840\n",
            "Epoch 199/200\n",
            "62/62 [==============================] - 1s 11ms/step - loss: 0.4352 - accuracy: 0.8855\n",
            "Epoch 200/200\n",
            "62/62 [==============================] - 1s 10ms/step - loss: 0.4126 - accuracy: 0.8910\n"
          ]
        }
      ]
    },
    {
      "cell_type": "markdown",
      "metadata": {
        "id": "AXVFpoREhV6Y"
      },
      "source": [
        "### View the Training Graph"
      ]
    },
    {
      "cell_type": "code",
      "metadata": {
        "id": "aeSNfS7uhch0"
      },
      "source": [
        "import matplotlib.pyplot as plt\n",
        "\n",
        "def plot_graphs(history, string):\n",
        "  plt.plot(history.history[string])\n",
        "  plt.xlabel(\"Epochs\")\n",
        "  plt.ylabel(string)\n",
        "  plt.show()\n",
        "\n",
        "plot_graphs(history, 'accuracy')"
      ],
      "execution_count": null,
      "outputs": []
    },
    {
      "cell_type": "markdown",
      "metadata": {
        "id": "1rAgRpxYhjpB"
      },
      "source": [
        "### Generate new lyrics!\n",
        "\n",
        "It's finally time to generate some new lyrics from the trained model, and see what we get. To do so, we'll provide some \"seed text\", or an input sequence for the model to start with. We'll also decide just how long of an output sequence we want - this could essentially be infinite, as the input plus the previous output will be continuously fed in for a new output word (at least up to our max sequence length)."
      ]
    },
    {
      "cell_type": "code",
      "metadata": {
        "id": "DC7zfcgviDTp"
      },
      "source": [
        "seed_text = \"im feeling chills\"\n",
        "next_words = 100\n",
        "  \n",
        "for _ in range(next_words):\n",
        "\ttoken_list = tokenizer.texts_to_sequences([seed_text])[0]\n",
        "\ttoken_list = pad_sequences([token_list], maxlen=max_sequence_len-1, padding='pre')\n",
        "\tpredicted = np.argmax(model.predict(token_list), axis=-1)\n",
        "\toutput_word = \"\"\n",
        "\tfor word, index in tokenizer.word_index.items():\n",
        "\t\tif index == predicted:\n",
        "\t\t\toutput_word = word\n",
        "\t\t\tbreak\n",
        "\tseed_text += \" \" + output_word\n",
        "print(seed_text)"
      ],
      "execution_count": null,
      "outputs": []
    }
  ]
}